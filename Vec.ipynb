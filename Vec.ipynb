{
 "cells": [
  {
   "cell_type": "code",
   "execution_count": 4,
   "metadata": {},
   "outputs": [
    {
     "name": "stdout",
     "output_type": "stream",
     "text": [
      "Datasets saved successfully!\n"
     ]
    }
   ],
   "source": [
    "import pandas as pd\n",
    "\n",
    "data_blue = {\n",
    "    \"Chemical A\": [0.872789504, 0.838562464, 0.804335425, 0.787221905, 0.855675984, \n",
    "                   0.924130063, 0.787221905, 0.855675984, 0.752994866, 0.838562464, \n",
    "                   0.924130063, 0.821448945, 0.821448945, 0.735881346, 0.992584141, \n",
    "                   0.975470622, 0.924130063, 0.872789504, 0.975470622, 0.872789504, \n",
    "                   0.924130063, 0.872789504, 0.787221905, 0.872789504, 0.821448945, \n",
    "                   0.855675984, 0.855675984, 0.889903023, 0.889903023, 0.804335425, \n",
    "                   0.821448945, 0.924130063, 0.889903023, 0.941243582, 0.838562464, \n",
    "                   0.855675984, 0.941243582, 0.838562464, 0.752994866, 0.872789504, \n",
    "                   0.855675984, 0.770108386, 0.752994866, 0.855675984, 0.872789504, \n",
    "                   0.821448945, 0.872789504, 0.787221905, 0.907016543, 0.855675984],\n",
    "}\n",
    "\n",
    "data_red = {\n",
    "    \"Chemical A\": [1.07815174, 0.992584141, 1.215059897, 1.07815174, 1.112378779, \n",
    "                   1.300627496, 0.838562464, 1.249286937, 1.146605819, 1.232173417, \n",
    "                   1.112378779, 1.09526526, 1.163719338, 0.975470622, 0.992584141, \n",
    "                   1.09526526, 1.112378779, 1.317741015, 1.317741015, 1.026811181, \n",
    "                   1.180832858, 0.958357102, 1.317741015, 1.07815174, 1.146605819, \n",
    "                   1.232173417, 1.06103822, 1.043924701, 1.09526526, 1.232173417, \n",
    "                   1.266400456, 1.351968055, 1.09526526, 1.07815174, 1.043924701, \n",
    "                   1.317741015, 1.07815174, 1.09526526, 1.026811181, 1.180832858, \n",
    "                   1.146605819, 1.180832858, 0.992584141, 1.163719338, 1.146605819, \n",
    "                   1.146605819, 1.07815174, 1.112378779, 1.06103822, 1.009697661],\n",
    "}\n",
    "\n",
    "data_black = {\n",
    "    \"Chemical A\": [1.197946378, 1.09526526, 1.180832858, 0.941243582, 1.112378779, \n",
    "                   0.975470622, 1.07815174, 0.838562464, 1.129492299, 0.889903023, \n",
    "                   0.855675984, 1.009697661, 1.026811181, 1.043924701, 0.958357102, \n",
    "                   1.146605819, 0.958357102, 0.992584141, 1.06103822, 0.958357102, \n",
    "                   1.009697661, 1.043924701, 1.07815174, 1.043924701, 1.09526526, \n",
    "                   1.129492299, 1.163719338, 1.146605819, 1.026811181, 0.975470622, \n",
    "                   0.941243582, 0.941243582, 0.992584141, 1.026811181, 0.924130063, \n",
    "                   1.026811181, 1.146605819, 1.07815174, 0.958357102, 0.941243582, \n",
    "                   0.941243582, 1.043924701, 0.992584141, 0.855675984, 0.958357102, \n",
    "                   0.975470622, 0.975470622, 1.06103822, 0.872789504, 0.975470622],\n",
    "}\n",
    "\n",
    "\n",
    "df_blue = pd.DataFrame(data_blue)\n",
    "df_red = pd.DataFrame(data_red)\n",
    "df_black = pd.DataFrame(data_black)\n",
    "\n",
    "df_blue.to_csv('data_blue.csv', index=False)\n",
    "df_red.to_csv('data_red.csv', index=False)\n",
    "df_black.to_csv('data_black.csv', index=False)\n",
    "\n",
    "print(\"Datasets saved successfully!\")"
   ]
  },
  {
   "cell_type": "code",
   "execution_count": 5,
   "metadata": {},
   "outputs": [
    {
     "name": "stdout",
     "output_type": "stream",
     "text": [
      "The closest color to the given data is: Black\n"
     ]
    }
   ],
   "source": [
    "import numpy as np\n",
    "import pandas as pd\n",
    "\n",
    "# Load data from CSV files\n",
    "df_blue = pd.read_csv('data_blue.csv')\n",
    "df_red = pd.read_csv('data_red.csv')\n",
    "df_black = pd.read_csv('data_black.csv')\n",
    "\n",
    "# Extract vector components\n",
    "vector_components_blue = df_blue.iloc[:, :1].values  \n",
    "vector_components_red = df_red.iloc[:, :1].values    \n",
    "vector_components_black = df_black.iloc[:, :1].values  \n",
    "\n",
    "\n",
    "find_data = {\n",
    "    \"Chemical A\": [0.872789504],\n",
    "    \"Chemical B\": [0.598973189],\n",
    "    \"Chemical C\": [0.239589276],\n",
    "    \"Chemical D\": [0.034227039],\n",
    "}\n",
    "\n",
    "# Extract vector\n",
    "df_find_data = pd.DataFrame(find_data)\n",
    "vector_components_find_data = df_find_data.iloc[:, :1].values  \n",
    "\n",
    "# Calculate distances\n",
    "distances_black = np.linalg.norm(vector_components_find_data - vector_components_black, axis=1)\n",
    "distances_blue = np.linalg.norm(vector_components_find_data - vector_components_blue, axis=1)\n",
    "distances_red = np.linalg.norm(vector_components_find_data - vector_components_red, axis=1)\n",
    "\n",
    "\n",
    "min_distance = min(distances_black.min(), distances_blue.min(), distances_red.min())\n",
    "\n",
    "if min_distance == distances_black.min():\n",
    "    color = \"Black\"\n",
    "elif min_distance == distances_blue.min():\n",
    "    color = \"Blue\"\n",
    "else:\n",
    "    color = \"Red\"\n",
    "\n",
    "print(f\"The closest color to the given data is: {color}\")\n",
    "#And all other questions are filled in the Google Form for the competition."
   ]
  },
  {
   "cell_type": "code",
   "execution_count": null,
   "metadata": {},
   "outputs": [],
   "source": []
  }
 ],
 "metadata": {
  "kernelspec": {
   "display_name": "Python 3",
   "language": "python",
   "name": "python3"
  },
  "language_info": {
   "codemirror_mode": {
    "name": "ipython",
    "version": 3
   },
   "file_extension": ".py",
   "mimetype": "text/x-python",
   "name": "python",
   "nbconvert_exporter": "python",
   "pygments_lexer": "ipython3",
   "version": "3.11.1"
  }
 },
 "nbformat": 4,
 "nbformat_minor": 2
}
